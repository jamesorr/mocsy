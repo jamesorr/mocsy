{
 "cells": [
  {
   "cell_type": "markdown",
   "metadata": {},
   "source": [
    "# mocsy examples using mocsy from IOOS channel\n",
    "11/9/2015. [Emilio Mayorga](https://github.com/emiliom). Reproduce and extend Examples 1-3 from the mocys Python documentation page.\n",
    "- mocsy Python source documentation: http://ocmip5.ipsl.jussieu.fr/mocsy/pyth.html\n",
    "- See ioos-channel implementation discussions at https://github.com/ioos/conda-recipes/pull/563\n",
    "- Include brief text describing how to add the IOOS channel and create a bare minimum conda env with mocsy (and pandas, etc)?"
   ]
  },
  {
   "cell_type": "code",
   "execution_count": 1,
   "metadata": {
    "collapsed": true
   },
   "outputs": [],
   "source": [
    "import mocsy"
   ]
  },
  {
   "cell_type": "markdown",
   "metadata": {},
   "source": [
    "## Example 1, Simple scalar variables\n",
    "Functions return 1-dimensional numpy arrays. Scalar inputs return length-1 arrays."
   ]
  },
  {
   "cell_type": "markdown",
   "metadata": {},
   "source": [
    "For DATA input: DIC and ALk in mol/kg, in situ temperature, pressure."
   ]
  },
  {
   "cell_type": "code",
   "execution_count": 2,
   "metadata": {
    "collapsed": false
   },
   "outputs": [
    {
     "name": "stdout",
     "output_type": "stream",
     "text": [
      "(array([ 8.14892578], dtype=float32), array([ 312.28662109], dtype=float32), array([ 300.68057251], dtype=float32), array([  1.01729711e-05], dtype=float32), array([ 0.00177952], dtype=float32), array([ 0.00021031], dtype=float32), array([ 3.19940853], dtype=float32), array([ 4.94189167], dtype=float32), array([ 9.68977737], dtype=float32), array([ 1025.71105957], dtype=float32), array([ 100.], dtype=float32), array([ 18.], dtype=float32))\n"
     ]
    }
   ],
   "source": [
    "pH,pco2,fco2,co2,hco3,co3,OmegaA,OmegaC,BetaD,DENis,p,Tis = \\\n",
    "    mocsy.mvars(temp=18, sal=35, alk=2300.e-6, dic=2000.e-6, sil=0, phos=0, \n",
    "                patm=1, depth=100, lat=0, \n",
    "                optcon='mol/kg', optt='Tinsitu', optp='db', \n",
    "                optb=\"u74\", optk1k2='l', optkf=\"dg\", optgas='Pinsitu')\n",
    "print(pH,pco2,fco2,co2,hco3,co3,OmegaA,OmegaC,BetaD,DENis,p,Tis)"
   ]
  },
  {
   "cell_type": "markdown",
   "metadata": {},
   "source": [
    "Compute the CONSTANTS with the same scalar input for S, T, and P (as above) but change to the newer options published since the best-practices guide: Lee et al. (2010) for total boron and Millero (2010) for K<sub>1</sub> and K<sub>2</sub>:"
   ]
  },
  {
   "cell_type": "code",
   "execution_count": 3,
   "metadata": {
    "collapsed": false
   },
   "outputs": [
    {
     "name": "stdout",
     "output_type": "stream",
     "text": [
      "(array([ 0.03428761]), array([  1.21367294e-06]), array([  8.28929483e-10]), array([  2.08897987e-09]), array([  3.16159683e-14]), array([ 0.13032609]), array([ 0.00327175]), array([  4.30745611e-07]), array([  6.66111159e-07]), array([ 0.02471062]), array([  9.60420732e-07]), array([  1.11966778e-09]), array([  3.10671746e-10]), array([ 0.02823543]), array([  6.83244011e-05]), array([ 0.0004326]))\n"
     ]
    }
   ],
   "source": [
    "Kh,K1,K2,Kb,Kw,Ks,Kf,Kspc,Kspa,K1p,K2p,K3p,Ksi,St,Ft,Bt = \\\n",
    "    mocsy.mconstants(temp=18, sal=35, patm=1, depth=0,lat=0, \n",
    "                     optt='Tinsitu', optp='m', \n",
    "                     optb=\"l10\", optk1k2='m10', optkf=\"dg\", optgas='Ppot')\n",
    "print(Kh,K1,K2,Kb,Kw,Ks,Kf,Kspc,Kspa,K1p,K2p,K3p,Ksi,St,Ft,Bt)"
   ]
  },
  {
   "cell_type": "markdown",
   "metadata": {},
   "source": [
    "For MODEL input: DIC and Alk in mol/m3, potential temperature, and depth. Also do NOT specify last 4 options, thus using defaults (optb='l10', optk1k2='l', optkf='pf', optgas='Pinsitu')."
   ]
  },
  {
   "cell_type": "code",
   "execution_count": 4,
   "metadata": {
    "collapsed": false
   },
   "outputs": [
    {
     "name": "stdout",
     "output_type": "stream",
     "text": [
      "(array([ 8.14304447], dtype=float32), array([ 317.7567749], dtype=float32), array([ 305.88537598], dtype=float32), array([ 0.01060902], dtype=float32), array([ 1.83167541], dtype=float32), array([ 0.21371585], dtype=float32), array([ 3.16961932], dtype=float32), array([ 4.89563847], dtype=float32), array([ 9.65654659], dtype=float32), array([ 1025.70947266], dtype=float32), array([ 100.61317444], dtype=float32), array([ 18.01725388], dtype=float32))\n"
     ]
    }
   ],
   "source": [
    "pH,pco2,fco2,co2,hco3,co3,OmegaA,OmegaC,BetaD,DENis,p,Tis = \\\n",
    "    mocsy.mvars(temp=18, sal=35, alk=2300*1028e-6, dic=2000*1028e-6, sil=0, phos=0,\n",
    "                patm=1, depth=100, lat=0, \n",
    "                optcon='mol/m3', optt='Tpot', optp='m')\n",
    "print(pH,pco2,fco2,co2,hco3,co3,OmegaA,OmegaC,BetaD,DENis,p,Tis)"
   ]
  },
  {
   "cell_type": "markdown",
   "metadata": {},
   "source": [
    "## Example 2,  Simple arrays (numpy)\n",
    "Also demonstrate import into Pandas DataFrame and plotting."
   ]
  },
  {
   "cell_type": "code",
   "execution_count": 5,
   "metadata": {
    "collapsed": true
   },
   "outputs": [],
   "source": [
    "%matplotlib inline\n",
    "import matplotlib.pyplot as plt\n",
    "import numpy as np\n",
    "import pandas as pd"
   ]
  },
  {
   "cell_type": "code",
   "execution_count": 6,
   "metadata": {
    "collapsed": false
   },
   "outputs": [],
   "source": [
    "# Make dummy array with 11 members\n",
    "one = np.ones(11, dtype='float32')\n",
    "\n",
    "sal   = 35*one\n",
    "temp  = 2*one\n",
    "patm  = 1*one\n",
    "depth = np.arange(0,11000,1000, dtype='float32')  # units in 'm'"
   ]
  },
  {
   "cell_type": "code",
   "execution_count": 7,
   "metadata": {
    "collapsed": true
   },
   "outputs": [],
   "source": [
    "# Compute in situ density (3 steps using 2 mocsy routines):\n",
    "# a) Specify latitude = 60°S for depth to pressure conversion formula\n",
    "lat = -60*one\n",
    "# b) Compute pressure (db) from depth (m) and latitude following Saunders (1981)\n",
    "pfd = mocsy.mdepth2press(depth,lat)  # units in 'db' \n",
    "# c) Compute in situ density (kg/m3) from salinity (psu), in-situ temp (C), and pressure (db)\n",
    "rhois = mocsy.mrhoinsitu(sal, temp, pfd)"
   ]
  },
  {
   "cell_type": "code",
   "execution_count": 8,
   "metadata": {
    "collapsed": true
   },
   "outputs": [],
   "source": [
    "# Specify surface concentrations typical of 60°S (from GLODAP and WOA2009)\n",
    "alk   = 2295*one # umol/kg\n",
    "dic   = 2154*one # umol/kg\n",
    "sio2  = 50.*one  # umol/L\n",
    "po4   = 1.8*one  # umol/L"
   ]
  },
  {
   "cell_type": "code",
   "execution_count": 9,
   "metadata": {
    "collapsed": true
   },
   "outputs": [],
   "source": [
    "# Convert nutrient units(mol/L) to model units (mol/m3)\n",
    "sio2 = sio2 * 1.0e-3   \n",
    "po4  = po4  * 1.0e-3 \n",
    "# Convert Alk and DIC units (umol/kg) to model units (mol/m3)\n",
    "dic = dic * rhois * 1e-6\n",
    "alk = alk * rhois * 1e-6"
   ]
  },
  {
   "cell_type": "code",
   "execution_count": 10,
   "metadata": {
    "collapsed": true
   },
   "outputs": [],
   "source": [
    "# Compute carbonate system variables, using 'model' options.\n",
    "# Note that original example code had an error: \n",
    "# patm argument was passed as scalar rather than array shaped like one\n",
    "response_tup = mocsy.mvars(temp=temp, sal=sal, alk=alk, dic=dic, \n",
    "                           sil=sio2, phos=po4, patm=patm, depth=depth, lat=lat, \n",
    "                           optcon='mol/m3', optt='Tpot', optp='m')\n",
    "pH,pco2,fco2,co2,hco3,co3,OmegaA,OmegaC,BetaD,DENis,p,Tis = response_tup"
   ]
  },
  {
   "cell_type": "code",
   "execution_count": 11,
   "metadata": {
    "collapsed": false
   },
   "outputs": [
    {
     "data": {
      "text/plain": [
       "(array([     0.,   1000.,   2000.,   3000.,   4000.,   5000.,   6000.,\n",
       "          7000.,   8000.,   9000.,  10000.], dtype=float32),\n",
       " array([ 8.05916595,  8.01757812,  7.97552681,  7.93305302,  7.89020014,\n",
       "         7.84701252,  7.8035388 ,  7.75982523,  7.71591997,  7.67187119,\n",
       "         7.62772655], dtype=float32),\n",
       " array([ 1.55457842,  1.25153887,  1.01237512,  0.82299215,  0.67249018,\n",
       "         0.55242962,  0.45627609,  0.37894735,  0.31649008,  0.26582268,\n",
       "         0.22453403], dtype=float32))"
      ]
     },
     "execution_count": 11,
     "metadata": {},
     "output_type": "execute_result"
    }
   ],
   "source": [
    "depth, pH, OmegaA"
   ]
  },
  {
   "cell_type": "markdown",
   "metadata": {},
   "source": [
    "### Import into Pandas DataFrame"
   ]
  },
  {
   "cell_type": "code",
   "execution_count": 12,
   "metadata": {
    "collapsed": false
   },
   "outputs": [],
   "source": [
    "data_for_pd = dict(depth=depth, \n",
    "                   temp=temp, sal=sal, alk=alk, dic=dic, sil=sio2, phos=po4,\n",
    "                   pH=pH, pCO2=pco2, fCO2=fco2, CO3=co3, OmegaA=OmegaA, OmegaC=OmegaC\n",
    "                  )"
   ]
  },
  {
   "cell_type": "code",
   "execution_count": 13,
   "metadata": {
    "collapsed": false
   },
   "outputs": [],
   "source": [
    "data_df = pd.DataFrame(data_for_pd, \n",
    "                       columns=['depth', 'temp', 'sal', 'alk', 'dic', 'sil', 'phos',\n",
    "                                'pH', 'pCO2', 'fCO2', 'CO3', 'OmegaA', 'OmegaC']\n",
    "                      )\n",
    "data_df.set_index('depth', drop=False, inplace=True)"
   ]
  },
  {
   "cell_type": "code",
   "execution_count": 14,
   "metadata": {
    "collapsed": false
   },
   "outputs": [
    {
     "data": {
      "text/html": [
       "<div>\n",
       "<table border=\"1\" class=\"dataframe\">\n",
       "  <thead>\n",
       "    <tr style=\"text-align: right;\">\n",
       "      <th></th>\n",
       "      <th>depth</th>\n",
       "      <th>temp</th>\n",
       "      <th>sal</th>\n",
       "      <th>alk</th>\n",
       "      <th>dic</th>\n",
       "      <th>sil</th>\n",
       "      <th>phos</th>\n",
       "      <th>pH</th>\n",
       "      <th>pCO2</th>\n",
       "      <th>fCO2</th>\n",
       "      <th>CO3</th>\n",
       "      <th>OmegaA</th>\n",
       "      <th>OmegaC</th>\n",
       "    </tr>\n",
       "    <tr>\n",
       "      <th>depth</th>\n",
       "      <th></th>\n",
       "      <th></th>\n",
       "      <th></th>\n",
       "      <th></th>\n",
       "      <th></th>\n",
       "      <th></th>\n",
       "      <th></th>\n",
       "      <th></th>\n",
       "      <th></th>\n",
       "      <th></th>\n",
       "      <th></th>\n",
       "      <th></th>\n",
       "      <th></th>\n",
       "    </tr>\n",
       "  </thead>\n",
       "  <tbody>\n",
       "    <tr>\n",
       "      <th>0</th>\n",
       "      <td>0</td>\n",
       "      <td>2</td>\n",
       "      <td>35</td>\n",
       "      <td>2.359195</td>\n",
       "      <td>2.214251</td>\n",
       "      <td>0.05</td>\n",
       "      <td>0.0018</td>\n",
       "      <td>8.059166</td>\n",
       "      <td>374.904083</td>\n",
       "      <td>373.299835</td>\n",
       "      <td>0.106109</td>\n",
       "      <td>1.554578</td>\n",
       "      <td>2.469864</td>\n",
       "    </tr>\n",
       "    <tr>\n",
       "      <th>1000</th>\n",
       "      <td>1000</td>\n",
       "      <td>2</td>\n",
       "      <td>35</td>\n",
       "      <td>2.370013</td>\n",
       "      <td>2.224405</td>\n",
       "      <td>0.05</td>\n",
       "      <td>0.0018</td>\n",
       "      <td>8.017578</td>\n",
       "      <td>654.127747</td>\n",
       "      <td>424.527710</td>\n",
       "      <td>0.104399</td>\n",
       "      <td>1.251539</td>\n",
       "      <td>1.963817</td>\n",
       "    </tr>\n",
       "    <tr>\n",
       "      <th>2000</th>\n",
       "      <td>2000</td>\n",
       "      <td>2</td>\n",
       "      <td>35</td>\n",
       "      <td>2.380646</td>\n",
       "      <td>2.234384</td>\n",
       "      <td>0.05</td>\n",
       "      <td>0.0018</td>\n",
       "      <td>7.975527</td>\n",
       "      <td>1145.611328</td>\n",
       "      <td>484.104645</td>\n",
       "      <td>0.102729</td>\n",
       "      <td>1.012375</td>\n",
       "      <td>1.568793</td>\n",
       "    </tr>\n",
       "    <tr>\n",
       "      <th>3000</th>\n",
       "      <td>3000</td>\n",
       "      <td>2</td>\n",
       "      <td>35</td>\n",
       "      <td>2.391097</td>\n",
       "      <td>2.244193</td>\n",
       "      <td>0.05</td>\n",
       "      <td>0.0018</td>\n",
       "      <td>7.933053</td>\n",
       "      <td>2013.219604</td>\n",
       "      <td>553.512451</td>\n",
       "      <td>0.101103</td>\n",
       "      <td>0.822992</td>\n",
       "      <td>1.259388</td>\n",
       "    </tr>\n",
       "    <tr>\n",
       "      <th>4000</th>\n",
       "      <td>4000</td>\n",
       "      <td>2</td>\n",
       "      <td>35</td>\n",
       "      <td>2.401371</td>\n",
       "      <td>2.253836</td>\n",
       "      <td>0.05</td>\n",
       "      <td>0.0018</td>\n",
       "      <td>7.890200</td>\n",
       "      <td>3548.775635</td>\n",
       "      <td>634.504028</td>\n",
       "      <td>0.099525</td>\n",
       "      <td>0.672490</td>\n",
       "      <td>1.016160</td>\n",
       "    </tr>\n",
       "    <tr>\n",
       "      <th>5000</th>\n",
       "      <td>5000</td>\n",
       "      <td>2</td>\n",
       "      <td>35</td>\n",
       "      <td>2.411471</td>\n",
       "      <td>2.263315</td>\n",
       "      <td>0.05</td>\n",
       "      <td>0.0018</td>\n",
       "      <td>7.847013</td>\n",
       "      <td>6272.761230</td>\n",
       "      <td>729.158936</td>\n",
       "      <td>0.097998</td>\n",
       "      <td>0.552430</td>\n",
       "      <td>0.824211</td>\n",
       "    </tr>\n",
       "    <tr>\n",
       "      <th>6000</th>\n",
       "      <td>6000</td>\n",
       "      <td>2</td>\n",
       "      <td>35</td>\n",
       "      <td>2.421401</td>\n",
       "      <td>2.272635</td>\n",
       "      <td>0.05</td>\n",
       "      <td>0.0018</td>\n",
       "      <td>7.803539</td>\n",
       "      <td>11114.308594</td>\n",
       "      <td>839.931396</td>\n",
       "      <td>0.096524</td>\n",
       "      <td>0.456276</td>\n",
       "      <td>0.672123</td>\n",
       "    </tr>\n",
       "    <tr>\n",
       "      <th>7000</th>\n",
       "      <td>7000</td>\n",
       "      <td>2</td>\n",
       "      <td>35</td>\n",
       "      <td>2.431163</td>\n",
       "      <td>2.281797</td>\n",
       "      <td>0.05</td>\n",
       "      <td>0.0018</td>\n",
       "      <td>7.759825</td>\n",
       "      <td>19734.019531</td>\n",
       "      <td>969.738525</td>\n",
       "      <td>0.095106</td>\n",
       "      <td>0.378947</td>\n",
       "      <td>0.551105</td>\n",
       "    </tr>\n",
       "    <tr>\n",
       "      <th>8000</th>\n",
       "      <td>8000</td>\n",
       "      <td>2</td>\n",
       "      <td>35</td>\n",
       "      <td>2.440762</td>\n",
       "      <td>2.290807</td>\n",
       "      <td>0.05</td>\n",
       "      <td>0.0018</td>\n",
       "      <td>7.715920</td>\n",
       "      <td>35102.304688</td>\n",
       "      <td>1122.033813</td>\n",
       "      <td>0.093745</td>\n",
       "      <td>0.316490</td>\n",
       "      <td>0.454385</td>\n",
       "    </tr>\n",
       "    <tr>\n",
       "      <th>9000</th>\n",
       "      <td>9000</td>\n",
       "      <td>2</td>\n",
       "      <td>35</td>\n",
       "      <td>2.450201</td>\n",
       "      <td>2.299665</td>\n",
       "      <td>0.05</td>\n",
       "      <td>0.0018</td>\n",
       "      <td>7.671871</td>\n",
       "      <td>62533.589844</td>\n",
       "      <td>1300.905762</td>\n",
       "      <td>0.092441</td>\n",
       "      <td>0.265823</td>\n",
       "      <td>0.376739</td>\n",
       "    </tr>\n",
       "    <tr>\n",
       "      <th>10000</th>\n",
       "      <td>10000</td>\n",
       "      <td>2</td>\n",
       "      <td>35</td>\n",
       "      <td>2.459482</td>\n",
       "      <td>2.308377</td>\n",
       "      <td>0.05</td>\n",
       "      <td>0.0018</td>\n",
       "      <td>7.627727</td>\n",
       "      <td>111541.421875</td>\n",
       "      <td>1511.201416</td>\n",
       "      <td>0.091195</td>\n",
       "      <td>0.224534</td>\n",
       "      <td>0.314116</td>\n",
       "    </tr>\n",
       "  </tbody>\n",
       "</table>\n",
       "</div>"
      ],
      "text/plain": [
       "       depth  temp  sal       alk       dic   sil    phos        pH  \\\n",
       "depth                                                                 \n",
       "0          0     2   35  2.359195  2.214251  0.05  0.0018  8.059166   \n",
       "1000    1000     2   35  2.370013  2.224405  0.05  0.0018  8.017578   \n",
       "2000    2000     2   35  2.380646  2.234384  0.05  0.0018  7.975527   \n",
       "3000    3000     2   35  2.391097  2.244193  0.05  0.0018  7.933053   \n",
       "4000    4000     2   35  2.401371  2.253836  0.05  0.0018  7.890200   \n",
       "5000    5000     2   35  2.411471  2.263315  0.05  0.0018  7.847013   \n",
       "6000    6000     2   35  2.421401  2.272635  0.05  0.0018  7.803539   \n",
       "7000    7000     2   35  2.431163  2.281797  0.05  0.0018  7.759825   \n",
       "8000    8000     2   35  2.440762  2.290807  0.05  0.0018  7.715920   \n",
       "9000    9000     2   35  2.450201  2.299665  0.05  0.0018  7.671871   \n",
       "10000  10000     2   35  2.459482  2.308377  0.05  0.0018  7.627727   \n",
       "\n",
       "                pCO2         fCO2       CO3    OmegaA    OmegaC  \n",
       "depth                                                            \n",
       "0         374.904083   373.299835  0.106109  1.554578  2.469864  \n",
       "1000      654.127747   424.527710  0.104399  1.251539  1.963817  \n",
       "2000     1145.611328   484.104645  0.102729  1.012375  1.568793  \n",
       "3000     2013.219604   553.512451  0.101103  0.822992  1.259388  \n",
       "4000     3548.775635   634.504028  0.099525  0.672490  1.016160  \n",
       "5000     6272.761230   729.158936  0.097998  0.552430  0.824211  \n",
       "6000    11114.308594   839.931396  0.096524  0.456276  0.672123  \n",
       "7000    19734.019531   969.738525  0.095106  0.378947  0.551105  \n",
       "8000    35102.304688  1122.033813  0.093745  0.316490  0.454385  \n",
       "9000    62533.589844  1300.905762  0.092441  0.265823  0.376739  \n",
       "10000  111541.421875  1511.201416  0.091195  0.224534  0.314116  "
      ]
     },
     "execution_count": 14,
     "metadata": {},
     "output_type": "execute_result"
    }
   ],
   "source": [
    "data_df"
   ]
  },
  {
   "cell_type": "markdown",
   "metadata": {},
   "source": [
    "### Create simple, easily generated figure using  Pandas plot"
   ]
  },
  {
   "cell_type": "code",
   "execution_count": 15,
   "metadata": {
    "collapsed": false
   },
   "outputs": [
    {
     "data": {
      "image/png": "[encoded data removed]",
      "text/plain": [
       "<matplotlib.figure.Figure at 0x7fb219817d10>"
      ]
     },
     "metadata": {},
     "output_type": "display_data"
    }
   ],
   "source": [
    "data_df['OmegaA'].plot(title='Omega Aragonite (OmegaA) vs depth');"
   ]
  },
  {
   "cell_type": "markdown",
   "metadata": {},
   "source": [
    "### Create a customized property vs depth plot showing two variables using matplotlib"
   ]
  },
  {
   "cell_type": "code",
   "execution_count": 16,
   "metadata": {
    "collapsed": false
   },
   "outputs": [
    {
     "data": {
      "image/png": "[encoded data removed]",
      "text/plain": [
       "<matplotlib.figure.Figure at 0x7fb2194fd410>"
      ]
     },
     "metadata": {},
     "output_type": "display_data"
    }
   ],
   "source": [
    "fig, ax1 = plt.subplots(figsize=(5,7))\n",
    "\n",
    "ax1.plot(data_df['OmegaA'], data_df['depth'], lw=2, color=\"blue\")\n",
    "ax1.set_xlabel(r\"$\\Omega_A (fraction)$\", fontsize=16, color=\"blue\")\n",
    "for label in ax1.get_xticklabels():\n",
    "    label.set_color(\"blue\")\n",
    "    \n",
    "ax2 = ax1.twiny()\n",
    "ax2.plot(data_df['pCO2'], data_df['depth'], lw=2, color=\"red\")\n",
    "ax2.set_xlabel(r\"$pCO_2 (\\mu atm)$\", fontsize=16, color=\"red\")\n",
    "for label in ax2.get_xticklabels():\n",
    "    label.set_color(\"red\")\n",
    "\n",
    "ax1.invert_yaxis()\n",
    "ax1.set_ylabel(r\"$depth (m)$\", fontsize=16);"
   ]
  },
  {
   "cell_type": "markdown",
   "metadata": {},
   "source": [
    "*pCO2 seems to get increasingly and massively wrong (too large) with depth. Only the surface values seem reasonable.*"
   ]
  },
  {
   "cell_type": "markdown",
   "metadata": {},
   "source": [
    "## Example 3, Read input from a .csv (spreadsheet) file\n",
    "Also demonstrate import into Pandas DataFrame and plotting."
   ]
  },
  {
   "cell_type": "code",
   "execution_count": 17,
   "metadata": {
    "collapsed": true
   },
   "outputs": [],
   "source": [
    "# Extra Packages used.\n",
    "# import numpy as np  # Already imported above\n",
    "# import panbdas as pd  # Already imported above\n",
    "import urllib\n",
    "import StringIO"
   ]
  },
  {
   "cell_type": "code",
   "execution_count": 18,
   "metadata": {
    "collapsed": false
   },
   "outputs": [],
   "source": [
    "# Read input .csv file from mocsy github repository\n",
    "infileurl = \"https://raw.githubusercontent.com/jamesorr/mocsy/master/DIC-Alk-P_vary_input.csv\"\n",
    "readfileurl = urllib.urlopen(infileurl).read()\n",
    "infile = StringIO.StringIO(readfileurl)"
   ]
  },
  {
   "cell_type": "code",
   "execution_count": 19,
   "metadata": {
    "collapsed": false
   },
   "outputs": [],
   "source": [
    "# Read .csv input file with 7 columns: flag, Alk(mol/kg), DIC(mol/kg), salinity(psu), temp(C), press(db), PO43-(mol/kg), SiO2(mol/kg)\n",
    "# infile = \"DIC-Alk-P_vary_input.csv\"\n",
    "indata = np.loadtxt(infile, delimiter=',', dtype='float32', skiprows=1)"
   ]
  },
  {
   "cell_type": "code",
   "execution_count": 20,
   "metadata": {
    "collapsed": true
   },
   "outputs": [],
   "source": [
    "n = len(indata)\n",
    "alk = indata[:,1]\n",
    "dic = indata[:,2]\n",
    "sal = indata[:,3]\n",
    "temp  = indata[:,4]\n",
    "depth = indata[:,5] * 10 #Convert from bars to decibars\n",
    "phos  = indata[:,6]\n",
    "sil   = indata[:,7]\n",
    "\n",
    "# Specify that latitude = 45°N for all samples (for depth to pressure conversion)\n",
    "# note: \"lat\" is required input for mocsy, but results are only weakly sensitive\n",
    "lat = np.full_like(depth, 45)\n",
    "# Specify the atmospheric pressure for all samples (1 atm)\n",
    "patm = np.full_like(depth, 1)"
   ]
  },
  {
   "cell_type": "code",
   "execution_count": 21,
   "metadata": {
    "collapsed": false
   },
   "outputs": [],
   "source": [
    "# Recover computed carbonate system variables\n",
    "# Note that original example code had an error: \n",
    "# patm argument was missing\n",
    "response_tup = mocsy.mvars(temp=temp, sal=sal, alk=alk, dic=dic, \n",
    "                           sil=sil, phos=phos, patm=patm, depth=depth, lat=lat, \n",
    "                           optcon='mol/kg', optt='Tinsitu', optp='db', \n",
    "                           optb=\"u74\", optk1k2='l', optkf=\"dg\")\n",
    "pH, pco2, fco2, co2, hco3, co3, OmegaA, OmegaC, BetaD, rhoSW, p, tempis = response_tup"
   ]
  },
  {
   "cell_type": "markdown",
   "metadata": {},
   "source": [
    "### Import into Pandas DataFrame"
   ]
  },
  {
   "cell_type": "code",
   "execution_count": 22,
   "metadata": {
    "collapsed": false
   },
   "outputs": [
    {
     "data": {
      "text/html": [
       "<div>\n",
       "<table border=\"1\" class=\"dataframe\">\n",
       "  <thead>\n",
       "    <tr style=\"text-align: right;\">\n",
       "      <th></th>\n",
       "      <th>depth</th>\n",
       "      <th>temp</th>\n",
       "      <th>sal</th>\n",
       "      <th>alk</th>\n",
       "      <th>dic</th>\n",
       "      <th>sil</th>\n",
       "      <th>phos</th>\n",
       "      <th>pH</th>\n",
       "      <th>pCO2</th>\n",
       "      <th>fCO2</th>\n",
       "      <th>CO3</th>\n",
       "      <th>OmegaA</th>\n",
       "      <th>OmegaC</th>\n",
       "    </tr>\n",
       "    <tr>\n",
       "      <th>depth</th>\n",
       "      <th></th>\n",
       "      <th></th>\n",
       "      <th></th>\n",
       "      <th></th>\n",
       "      <th></th>\n",
       "      <th></th>\n",
       "      <th></th>\n",
       "      <th></th>\n",
       "      <th></th>\n",
       "      <th></th>\n",
       "      <th></th>\n",
       "      <th></th>\n",
       "      <th></th>\n",
       "    </tr>\n",
       "  </thead>\n",
       "  <tbody>\n",
       "    <tr>\n",
       "      <th>0</th>\n",
       "      <td>0</td>\n",
       "      <td>18</td>\n",
       "      <td>35</td>\n",
       "      <td>0.0023</td>\n",
       "      <td>0.002058</td>\n",
       "      <td>0</td>\n",
       "      <td>0</td>\n",
       "      <td>8.046600</td>\n",
       "      <td>400.043640</td>\n",
       "      <td>398.651978</td>\n",
       "      <td>0.000174</td>\n",
       "      <td>2.679832</td>\n",
       "      <td>4.144131</td>\n",
       "    </tr>\n",
       "    <tr>\n",
       "      <th>500</th>\n",
       "      <td>500</td>\n",
       "      <td>18</td>\n",
       "      <td>35</td>\n",
       "      <td>0.0023</td>\n",
       "      <td>0.002058</td>\n",
       "      <td>0</td>\n",
       "      <td>0</td>\n",
       "      <td>8.028902</td>\n",
       "      <td>504.453369</td>\n",
       "      <td>423.277924</td>\n",
       "      <td>0.000172</td>\n",
       "      <td>2.470473</td>\n",
       "      <td>3.798344</td>\n",
       "    </tr>\n",
       "    <tr>\n",
       "      <th>1000</th>\n",
       "      <td>1000</td>\n",
       "      <td>18</td>\n",
       "      <td>35</td>\n",
       "      <td>0.0023</td>\n",
       "      <td>0.002058</td>\n",
       "      <td>0</td>\n",
       "      <td>0</td>\n",
       "      <td>8.011263</td>\n",
       "      <td>636.127075</td>\n",
       "      <td>449.435028</td>\n",
       "      <td>0.000171</td>\n",
       "      <td>2.278607</td>\n",
       "      <td>3.483148</td>\n",
       "    </tr>\n",
       "    <tr>\n",
       "      <th>1500</th>\n",
       "      <td>1500</td>\n",
       "      <td>18</td>\n",
       "      <td>35</td>\n",
       "      <td>0.0023</td>\n",
       "      <td>0.002058</td>\n",
       "      <td>0</td>\n",
       "      <td>0</td>\n",
       "      <td>7.993683</td>\n",
       "      <td>802.186584</td>\n",
       "      <td>477.218567</td>\n",
       "      <td>0.000170</td>\n",
       "      <td>2.102694</td>\n",
       "      <td>3.195707</td>\n",
       "    </tr>\n",
       "    <tr>\n",
       "      <th>2000</th>\n",
       "      <td>2000</td>\n",
       "      <td>18</td>\n",
       "      <td>35</td>\n",
       "      <td>0.0023</td>\n",
       "      <td>0.002058</td>\n",
       "      <td>0</td>\n",
       "      <td>0</td>\n",
       "      <td>7.976164</td>\n",
       "      <td>1011.614807</td>\n",
       "      <td>506.729828</td>\n",
       "      <td>0.000169</td>\n",
       "      <td>1.941335</td>\n",
       "      <td>2.933457</td>\n",
       "    </tr>\n",
       "    <tr>\n",
       "      <th>2500</th>\n",
       "      <td>2500</td>\n",
       "      <td>18</td>\n",
       "      <td>35</td>\n",
       "      <td>0.0023</td>\n",
       "      <td>0.002058</td>\n",
       "      <td>0</td>\n",
       "      <td>0</td>\n",
       "      <td>7.958705</td>\n",
       "      <td>1275.741699</td>\n",
       "      <td>538.076294</td>\n",
       "      <td>0.000168</td>\n",
       "      <td>1.793259</td>\n",
       "      <td>2.694080</td>\n",
       "    </tr>\n",
       "    <tr>\n",
       "      <th>3000</th>\n",
       "      <td>3000</td>\n",
       "      <td>18</td>\n",
       "      <td>35</td>\n",
       "      <td>0.0023</td>\n",
       "      <td>0.002058</td>\n",
       "      <td>0</td>\n",
       "      <td>0</td>\n",
       "      <td>7.941308</td>\n",
       "      <td>1608.858154</td>\n",
       "      <td>571.372070</td>\n",
       "      <td>0.000167</td>\n",
       "      <td>1.657311</td>\n",
       "      <td>2.475482</td>\n",
       "    </tr>\n",
       "    <tr>\n",
       "      <th>3500</th>\n",
       "      <td>3500</td>\n",
       "      <td>18</td>\n",
       "      <td>35</td>\n",
       "      <td>0.0023</td>\n",
       "      <td>0.002058</td>\n",
       "      <td>0</td>\n",
       "      <td>0</td>\n",
       "      <td>7.923972</td>\n",
       "      <td>2028.988770</td>\n",
       "      <td>606.738403</td>\n",
       "      <td>0.000166</td>\n",
       "      <td>1.532441</td>\n",
       "      <td>2.275768</td>\n",
       "    </tr>\n",
       "    <tr>\n",
       "      <th>4000</th>\n",
       "      <td>4000</td>\n",
       "      <td>18</td>\n",
       "      <td>35</td>\n",
       "      <td>0.0023</td>\n",
       "      <td>0.002058</td>\n",
       "      <td>0</td>\n",
       "      <td>0</td>\n",
       "      <td>7.906698</td>\n",
       "      <td>2558.868896</td>\n",
       "      <td>644.304077</td>\n",
       "      <td>0.000165</td>\n",
       "      <td>1.417695</td>\n",
       "      <td>2.093222</td>\n",
       "    </tr>\n",
       "    <tr>\n",
       "      <th>4500</th>\n",
       "      <td>4500</td>\n",
       "      <td>18</td>\n",
       "      <td>35</td>\n",
       "      <td>0.0023</td>\n",
       "      <td>0.002058</td>\n",
       "      <td>0</td>\n",
       "      <td>0</td>\n",
       "      <td>7.889486</td>\n",
       "      <td>3227.174316</td>\n",
       "      <td>684.205750</td>\n",
       "      <td>0.000164</td>\n",
       "      <td>1.312204</td>\n",
       "      <td>1.926292</td>\n",
       "    </tr>\n",
       "    <tr>\n",
       "      <th>5000</th>\n",
       "      <td>5000</td>\n",
       "      <td>18</td>\n",
       "      <td>35</td>\n",
       "      <td>0.0023</td>\n",
       "      <td>0.002058</td>\n",
       "      <td>0</td>\n",
       "      <td>0</td>\n",
       "      <td>7.872337</td>\n",
       "      <td>4070.074951</td>\n",
       "      <td>726.588501</td>\n",
       "      <td>0.000163</td>\n",
       "      <td>1.215178</td>\n",
       "      <td>1.773573</td>\n",
       "    </tr>\n",
       "    <tr>\n",
       "      <th>5500</th>\n",
       "      <td>5500</td>\n",
       "      <td>18</td>\n",
       "      <td>35</td>\n",
       "      <td>0.0023</td>\n",
       "      <td>0.002058</td>\n",
       "      <td>0</td>\n",
       "      <td>0</td>\n",
       "      <td>7.855252</td>\n",
       "      <td>5133.192383</td>\n",
       "      <td>771.606445</td>\n",
       "      <td>0.000162</td>\n",
       "      <td>1.125898</td>\n",
       "      <td>1.633791</td>\n",
       "    </tr>\n",
       "    <tr>\n",
       "      <th>6000</th>\n",
       "      <td>6000</td>\n",
       "      <td>18</td>\n",
       "      <td>35</td>\n",
       "      <td>0.0023</td>\n",
       "      <td>0.002058</td>\n",
       "      <td>0</td>\n",
       "      <td>0</td>\n",
       "      <td>7.838229</td>\n",
       "      <td>6474.068848</td>\n",
       "      <td>819.423218</td>\n",
       "      <td>0.000160</td>\n",
       "      <td>1.043707</td>\n",
       "      <td>1.505791</td>\n",
       "    </tr>\n",
       "    <tr>\n",
       "      <th>6500</th>\n",
       "      <td>6500</td>\n",
       "      <td>18</td>\n",
       "      <td>35</td>\n",
       "      <td>0.0023</td>\n",
       "      <td>0.002058</td>\n",
       "      <td>0</td>\n",
       "      <td>0</td>\n",
       "      <td>7.821271</td>\n",
       "      <td>8165.285156</td>\n",
       "      <td>870.212402</td>\n",
       "      <td>0.000159</td>\n",
       "      <td>0.968009</td>\n",
       "      <td>1.388525</td>\n",
       "    </tr>\n",
       "    <tr>\n",
       "      <th>7000</th>\n",
       "      <td>7000</td>\n",
       "      <td>18</td>\n",
       "      <td>35</td>\n",
       "      <td>0.0023</td>\n",
       "      <td>0.002058</td>\n",
       "      <td>0</td>\n",
       "      <td>0</td>\n",
       "      <td>7.804377</td>\n",
       "      <td>10298.385742</td>\n",
       "      <td>924.158447</td>\n",
       "      <td>0.000158</td>\n",
       "      <td>0.898260</td>\n",
       "      <td>1.281046</td>\n",
       "    </tr>\n",
       "    <tr>\n",
       "      <th>7500</th>\n",
       "      <td>7500</td>\n",
       "      <td>18</td>\n",
       "      <td>35</td>\n",
       "      <td>0.0023</td>\n",
       "      <td>0.002058</td>\n",
       "      <td>0</td>\n",
       "      <td>0</td>\n",
       "      <td>7.787548</td>\n",
       "      <td>12988.837891</td>\n",
       "      <td>981.457092</td>\n",
       "      <td>0.000157</td>\n",
       "      <td>0.833963</td>\n",
       "      <td>1.182490</td>\n",
       "    </tr>\n",
       "    <tr>\n",
       "      <th>8000</th>\n",
       "      <td>8000</td>\n",
       "      <td>18</td>\n",
       "      <td>35</td>\n",
       "      <td>0.0023</td>\n",
       "      <td>0.002058</td>\n",
       "      <td>0</td>\n",
       "      <td>0</td>\n",
       "      <td>7.770784</td>\n",
       "      <td>16382.278320</td>\n",
       "      <td>1042.316162</td>\n",
       "      <td>0.000156</td>\n",
       "      <td>0.774664</td>\n",
       "      <td>1.092076</td>\n",
       "    </tr>\n",
       "    <tr>\n",
       "      <th>8500</th>\n",
       "      <td>8500</td>\n",
       "      <td>18</td>\n",
       "      <td>35</td>\n",
       "      <td>0.0023</td>\n",
       "      <td>0.002058</td>\n",
       "      <td>0</td>\n",
       "      <td>0</td>\n",
       "      <td>7.754086</td>\n",
       "      <td>20662.398438</td>\n",
       "      <td>1106.956055</td>\n",
       "      <td>0.000155</td>\n",
       "      <td>0.719951</td>\n",
       "      <td>1.009092</td>\n",
       "    </tr>\n",
       "    <tr>\n",
       "      <th>9000</th>\n",
       "      <td>9000</td>\n",
       "      <td>18</td>\n",
       "      <td>35</td>\n",
       "      <td>0.0023</td>\n",
       "      <td>0.002058</td>\n",
       "      <td>0</td>\n",
       "      <td>0</td>\n",
       "      <td>7.737453</td>\n",
       "      <td>26060.884766</td>\n",
       "      <td>1175.611084</td>\n",
       "      <td>0.000154</td>\n",
       "      <td>0.669447</td>\n",
       "      <td>0.932893</td>\n",
       "    </tr>\n",
       "    <tr>\n",
       "      <th>9500</th>\n",
       "      <td>9500</td>\n",
       "      <td>18</td>\n",
       "      <td>35</td>\n",
       "      <td>0.0023</td>\n",
       "      <td>0.002058</td>\n",
       "      <td>0</td>\n",
       "      <td>0</td>\n",
       "      <td>7.720887</td>\n",
       "      <td>32869.957031</td>\n",
       "      <td>1248.529541</td>\n",
       "      <td>0.000153</td>\n",
       "      <td>0.622805</td>\n",
       "      <td>0.862892</td>\n",
       "    </tr>\n",
       "    <tr>\n",
       "      <th>10000</th>\n",
       "      <td>10000</td>\n",
       "      <td>18</td>\n",
       "      <td>35</td>\n",
       "      <td>0.0023</td>\n",
       "      <td>0.002058</td>\n",
       "      <td>0</td>\n",
       "      <td>0</td>\n",
       "      <td>7.704388</td>\n",
       "      <td>41458.171875</td>\n",
       "      <td>1325.975342</td>\n",
       "      <td>0.000152</td>\n",
       "      <td>0.579712</td>\n",
       "      <td>0.798556</td>\n",
       "    </tr>\n",
       "  </tbody>\n",
       "</table>\n",
       "</div>"
      ],
      "text/plain": [
       "       depth  temp  sal     alk       dic  sil  phos        pH          pCO2  \\\n",
       "depth                                                                          \n",
       "0          0    18   35  0.0023  0.002058    0     0  8.046600    400.043640   \n",
       "500      500    18   35  0.0023  0.002058    0     0  8.028902    504.453369   \n",
       "1000    1000    18   35  0.0023  0.002058    0     0  8.011263    636.127075   \n",
       "1500    1500    18   35  0.0023  0.002058    0     0  7.993683    802.186584   \n",
       "2000    2000    18   35  0.0023  0.002058    0     0  7.976164   1011.614807   \n",
       "2500    2500    18   35  0.0023  0.002058    0     0  7.958705   1275.741699   \n",
       "3000    3000    18   35  0.0023  0.002058    0     0  7.941308   1608.858154   \n",
       "3500    3500    18   35  0.0023  0.002058    0     0  7.923972   2028.988770   \n",
       "4000    4000    18   35  0.0023  0.002058    0     0  7.906698   2558.868896   \n",
       "4500    4500    18   35  0.0023  0.002058    0     0  7.889486   3227.174316   \n",
       "5000    5000    18   35  0.0023  0.002058    0     0  7.872337   4070.074951   \n",
       "5500    5500    18   35  0.0023  0.002058    0     0  7.855252   5133.192383   \n",
       "6000    6000    18   35  0.0023  0.002058    0     0  7.838229   6474.068848   \n",
       "6500    6500    18   35  0.0023  0.002058    0     0  7.821271   8165.285156   \n",
       "7000    7000    18   35  0.0023  0.002058    0     0  7.804377  10298.385742   \n",
       "7500    7500    18   35  0.0023  0.002058    0     0  7.787548  12988.837891   \n",
       "8000    8000    18   35  0.0023  0.002058    0     0  7.770784  16382.278320   \n",
       "8500    8500    18   35  0.0023  0.002058    0     0  7.754086  20662.398438   \n",
       "9000    9000    18   35  0.0023  0.002058    0     0  7.737453  26060.884766   \n",
       "9500    9500    18   35  0.0023  0.002058    0     0  7.720887  32869.957031   \n",
       "10000  10000    18   35  0.0023  0.002058    0     0  7.704388  41458.171875   \n",
       "\n",
       "              fCO2       CO3    OmegaA    OmegaC  \n",
       "depth                                             \n",
       "0       398.651978  0.000174  2.679832  4.144131  \n",
       "500     423.277924  0.000172  2.470473  3.798344  \n",
       "1000    449.435028  0.000171  2.278607  3.483148  \n",
       "1500    477.218567  0.000170  2.102694  3.195707  \n",
       "2000    506.729828  0.000169  1.941335  2.933457  \n",
       "2500    538.076294  0.000168  1.793259  2.694080  \n",
       "3000    571.372070  0.000167  1.657311  2.475482  \n",
       "3500    606.738403  0.000166  1.532441  2.275768  \n",
       "4000    644.304077  0.000165  1.417695  2.093222  \n",
       "4500    684.205750  0.000164  1.312204  1.926292  \n",
       "5000    726.588501  0.000163  1.215178  1.773573  \n",
       "5500    771.606445  0.000162  1.125898  1.633791  \n",
       "6000    819.423218  0.000160  1.043707  1.505791  \n",
       "6500    870.212402  0.000159  0.968009  1.388525  \n",
       "7000    924.158447  0.000158  0.898260  1.281046  \n",
       "7500    981.457092  0.000157  0.833963  1.182490  \n",
       "8000   1042.316162  0.000156  0.774664  1.092076  \n",
       "8500   1106.956055  0.000155  0.719951  1.009092  \n",
       "9000   1175.611084  0.000154  0.669447  0.932893  \n",
       "9500   1248.529541  0.000153  0.622805  0.862892  \n",
       "10000  1325.975342  0.000152  0.579712  0.798556  "
      ]
     },
     "execution_count": 22,
     "metadata": {},
     "output_type": "execute_result"
    }
   ],
   "source": [
    "data_for_pd = dict(depth=depth, \n",
    "                   temp=temp, sal=sal, alk=alk, dic=dic, sil=sil, phos=phos,\n",
    "                   pH=pH, pCO2=pco2, fCO2=fco2, CO3=co3, OmegaA=OmegaA, OmegaC=OmegaC\n",
    "                  )\n",
    "\n",
    "data_df = pd.DataFrame(data_for_pd, \n",
    "                       columns=['depth', 'temp', 'sal', 'alk', 'dic', 'sil', 'phos',\n",
    "                                'pH', 'pCO2', 'fCO2', 'CO3', 'OmegaA', 'OmegaC']\n",
    "                      )\n",
    "data_df.set_index('depth', drop=False, inplace=True)\n",
    "data_df"
   ]
  },
  {
   "cell_type": "markdown",
   "metadata": {},
   "source": [
    "Compare this with the [output csv file on the mocsy repository](https://github.com/jamesorr/mocsy/blob/master/DIC-Alk-P-vary-from-mocsy.csv). Some output variables matchup (like OmegaA and pH), *but pCO2 is completely and massively wrong at all depths except the surface!*"
   ]
  },
  {
   "cell_type": "code",
   "execution_count": 23,
   "metadata": {
    "collapsed": false
   },
   "outputs": [
    {
     "data": {
      "image/png": "[encoded data removed]",
      "text/plain": [
       "<matplotlib.figure.Figure at 0x7fb2173b1350>"
      ]
     },
     "metadata": {},
     "output_type": "display_data"
    }
   ],
   "source": [
    "fig, ax1 = plt.subplots(figsize=(5,7))\n",
    "\n",
    "ax1.plot(data_df['OmegaA'], data_df['depth'], lw=2, color=\"blue\")\n",
    "ax1.set_xlabel(r\"$\\Omega_A (fraction)$\", fontsize=16, color=\"blue\")\n",
    "for label in ax1.get_xticklabels():\n",
    "    label.set_color(\"blue\")\n",
    "    \n",
    "ax2 = ax1.twiny()\n",
    "ax2.plot(data_df['pH'], data_df['depth'], lw=2, color=\"red\")\n",
    "ax2.set_xlabel(r\"$pH (total scale)$\", fontsize=16, color=\"red\")\n",
    "for label in ax2.get_xticklabels():\n",
    "    label.set_color(\"red\")\n",
    "\n",
    "ax1.invert_yaxis()\n",
    "ax1.set_ylabel(r\"$depth (m)$\", fontsize=16);"
   ]
  },
  {
   "cell_type": "code",
   "execution_count": null,
   "metadata": {
    "collapsed": true
   },
   "outputs": [],
   "source": []
  }
 ],
 "metadata": {
  "kernelspec": {
   "display_name": "Python 2",
   "language": "python",
   "name": "python2"
  },
  "language_info": {
   "codemirror_mode": {
    "name": "ipython",
    "version": 2
   },
   "file_extension": ".py",
   "mimetype": "text/x-python",
   "name": "python",
   "nbconvert_exporter": "python",
   "pygments_lexer": "ipython2",
   "version": "2.7.10"
  }
 },
 "nbformat": 4,
 "nbformat_minor": 0
}
