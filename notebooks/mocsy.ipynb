{
 "cells": [
  {
   "cell_type": "code",
   "execution_count": 1,
   "metadata": {
    "collapsed": false
   },
   "outputs": [
    {
     "name": "stdout",
     "output_type": "stream",
     "text": [
      "2.0.1\n",
      "/home/filipe/.virtualenvs/iris/lib/python2.7/site-packages/mocsy/__init__.py\n"
     ]
    }
   ],
   "source": [
    "import mocsy\n",
    "\n",
    "print(mocsy.__version__)\n",
    "print(mocsy.__file__)"
   ]
  },
  {
   "cell_type": "code",
   "execution_count": 2,
   "metadata": {
    "collapsed": false
   },
   "outputs": [
    {
     "data": {
      "text/plain": [
       "['__all__',\n",
       " '__builtins__',\n",
       " '__doc__',\n",
       " '__file__',\n",
       " '__name__',\n",
       " '__package__',\n",
       " '__path__',\n",
       " '__version__',\n",
       " '_mocsy',\n",
       " 'absolute_import',\n",
       " 'gasx',\n",
       " 'mconstants',\n",
       " 'mdepth2press',\n",
       " 'mf2pco2',\n",
       " 'mp2fco2',\n",
       " 'mp80',\n",
       " 'mphsolvers',\n",
       " 'mrho',\n",
       " 'mrhoinsitu',\n",
       " 'msingledouble',\n",
       " 'msw_adtg',\n",
       " 'msw_ptmp',\n",
       " 'msw_temp',\n",
       " 'mtis',\n",
       " 'mtpot',\n",
       " 'mvars',\n",
       " 'mvarsolver']"
      ]
     },
     "execution_count": 2,
     "metadata": {},
     "output_type": "execute_result"
    }
   ],
   "source": [
    "dir(mocsy)"
   ]
  },
  {
   "cell_type": "code",
   "execution_count": 3,
   "metadata": {
    "collapsed": false
   },
   "outputs": [
    {
     "name": "stdout",
     "output_type": "stream",
     "text": [
      "ph,pco2,fco2,co2,hco3,co3,omegaa,omegac,betad,rhosw,p,tempis = vars(temp,sal,alk,dic,sil,phos,patm,depth,lat,optcon,optt,optp,[n,optb,optk1k2,optkf,optgas])\n",
      "\n",
      "Wrapper for ``vars``.\n",
      "\n",
      "Parameters\n",
      "----------\n",
      "temp : input rank-1 array('f') with bounds (n)\n",
      "sal : input rank-1 array('f') with bounds (n)\n",
      "alk : input rank-1 array('f') with bounds (n)\n",
      "dic : input rank-1 array('f') with bounds (n)\n",
      "sil : input rank-1 array('f') with bounds (n)\n",
      "phos : input rank-1 array('f') with bounds (n)\n",
      "patm : input rank-1 array('f') with bounds (n)\n",
      "depth : input rank-1 array('f') with bounds (n)\n",
      "lat : input rank-1 array('f') with bounds (n)\n",
      "optcon : input string(len=6)\n",
      "optt : input string(len=7)\n",
      "optp : input string(len=2)\n",
      "\n",
      "Other Parameters\n",
      "----------------\n",
      "n : input int, optional\n",
      "    Default: len(temp)\n",
      "optb : input string(len=3), optional\n",
      "    Default: 'l10'\n",
      "optk1k2 : input string(len=3), optional\n",
      "    Default: 'l'\n",
      "optkf : input string(len=2), optional\n",
      "    Default: 'pf'\n",
      "optgas : input string(len=7), optional\n",
      "    Default: 'pinsitu'\n",
      "\n",
      "Returns\n",
      "-------\n",
      "ph : rank-1 array('f') with bounds (n)\n",
      "pco2 : rank-1 array('f') with bounds (n)\n",
      "fco2 : rank-1 array('f') with bounds (n)\n",
      "co2 : rank-1 array('f') with bounds (n)\n",
      "hco3 : rank-1 array('f') with bounds (n)\n",
      "co3 : rank-1 array('f') with bounds (n)\n",
      "omegaa : rank-1 array('f') with bounds (n)\n",
      "omegac : rank-1 array('f') with bounds (n)\n",
      "betad : rank-1 array('f') with bounds (n)\n",
      "rhosw : rank-1 array('f') with bounds (n)\n",
      "p : rank-1 array('f') with bounds (n)\n",
      "tempis : rank-1 array('f') with bounds (n)\n",
      "\n"
     ]
    }
   ],
   "source": [
    "print(mocsy.mvars.__doc__)"
   ]
  }
 ],
 "metadata": {
  "kernelspec": {
   "display_name": "Python 2",
   "language": "python",
   "name": "python2"
  },
  "language_info": {
   "codemirror_mode": {
    "name": "ipython",
    "version": 2
   },
   "file_extension": ".py",
   "mimetype": "text/x-python",
   "name": "python",
   "nbconvert_exporter": "python",
   "pygments_lexer": "ipython2",
   "version": "2.7.8"
  }
 },
 "nbformat": 4,
 "nbformat_minor": 0
}
